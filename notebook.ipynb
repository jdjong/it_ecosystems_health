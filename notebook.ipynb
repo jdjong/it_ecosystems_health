{
 "cells": [
  {
   "cell_type": "code",
   "execution_count": 1,
   "id": "anonymous-matthew",
   "metadata": {},
   "outputs": [],
   "source": [
    "import pandas as pd\n",
    "import plotly.express as px\n",
    "import numpy as np"
   ]
  },
  {
   "cell_type": "markdown",
   "id": "becoming-tolerance",
   "metadata": {},
   "source": [
    "1. Read the data.\n",
    "2. Ignore rows with no importance.\n",
    "3. Take the square of must_should_nice_to_have in order to obtain a more clear distinction when visualizing."
   ]
  },
  {
   "source": [
    "df = pd.read_csv('some_company.csv', sep=';')\n",
    "df.head()\n",
    "\n",
    "df = df[df.would_you_x != 0]\n",
    "df['must_should_nice_to_have'] = df['must_should_nice_to_have'].transform(func=lambda x: x*x)\n",
    "\n",
    "#display(df)"
   ],
   "cell_type": "code",
   "metadata": {},
   "execution_count": 2,
   "outputs": []
  },
  {
   "source": [
    "Draw the sunburst diagram. It is meant to visualize the state of the IT ecosystem of the company based on 'gut feeling' ratings (that is why only three values are advised to consider (0, 1 or 2) as improvability indicator). Use this diagram in discussions for prioritizations for example."
   ],
   "cell_type": "markdown",
   "metadata": {}
  },
  {
   "cell_type": "code",
   "execution_count": 3,
   "id": "published-manhattan",
   "metadata": {},
   "outputs": [
    {
     "output_type": "display_data",
     "data": {
      "application/vnd.plotly.v1+json": {
       "config": {
        "plotlyServerURL": "https://plot.ly"
       },
       "data": [
        {
         "branchvalues": "total",
         "customdata": [
          [
           1
          ],
          [
           0
          ],
          [
           2
          ],
          [
           2
          ],
          [
           1
          ],
          [
           2
          ],
          [
           2
          ],
          [
           2
          ],
          [
           2
          ],
          [
           0
          ],
          [
           1
          ],
          [
           2
          ],
          [
           1
          ],
          [
           1
          ],
          [
           1
          ],
          [
           2
          ],
          [
           1
          ],
          [
           0
          ],
          [
           1
          ],
          [
           2
          ],
          [
           2
          ],
          [
           1
          ],
          [
           0
          ],
          [
           1
          ],
          [
           1
          ],
          [
           1
          ],
          [
           1
          ],
          [
           0
          ],
          [
           1
          ],
          [
           0
          ],
          [
           2
          ],
          [
           0
          ],
          [
           2
          ],
          [
           1
          ],
          [
           2
          ],
          [
           2
          ],
          [
           1
          ],
          [
           1
          ],
          [
           2
          ],
          [
           0
          ],
          [
           2
          ],
          [
           0
          ],
          [
           2
          ],
          [
           1
          ],
          [
           2
          ],
          [
           0
          ],
          [
           1
          ],
          [
           1.5909090909090908
          ],
          [
           1
          ],
          [
           0
          ],
          [
           1.2291666666666667
          ],
          [
           0.8709677419354839
          ],
          [
           1.4516129032258065
          ],
          [
           1.0151515151515151
          ],
          [
           0.7058823529411765
          ],
          [
           1.0889679715302492
          ]
         ],
         "domain": {
          "x": [
           0,
           1
          ],
          "y": [
           0,
           1
          ]
         },
         "hovertemplate": "labels=%{label}<br>must_should_nice_to_have=%{value}<br>parent=%{parent}<br>id=%{id}<br>improvability_indicator=%{color}<extra></extra>",
         "ids": [
          "some company/quality/apply automatisation as a principle",
          "some company/security/apply encryption",
          "some company/maintenance/be aware of duplications",
          "some company/maintenance/be aware of your code hotspots",
          "some company/maintenance/be aware of your testcoverage",
          "some company/maintenance/be up to date with your 3rd party vendors",
          "some company/maintenance/catastrof recovery testing",
          "some company/maintenance/check failed logins regularly",
          "some company/security/check owasp dependencies regularly",
          "some company/legality/comply with GDPR",
          "some company/functionality/design proper domain models",
          "some company/organisation context/have a clear shared vision",
          "some company/functionality/have a good product owner",
          "some company/quality/have acceptance tests",
          "some company/security/have access regulation",
          "some company/organisation context/have access to end users",
          "some company/maintenance/have alerting",
          "some company/legality/have all licenses",
          "some company/organisation context/have an accurate datawarehouse",
          "some company/quality/have automated testing",
          "some company/development teams/have autonomic teams",
          "some company/quality/have coding standards",
          "some company/observability/have easy and centralized log file access",
          "some company/quality/have integration tests",
          "some company/quality/have regression tests",
          "some company/organisation context/have sufficient budget",
          "some company/architecture/have team dependencies minimized",
          "some company/development teams/have teams aligned",
          "some company/quality/have unit tests",
          "some company/maintenance/have your data backuped",
          "some company/maintenance/have your infrastructure scripted",
          "some company/quality/keep code reviews",
          "some company/development teams/keep cognitive load in check",
          "some company/architecture/keep component dependencies minimized",
          "some company/development teams/keep retrospectives",
          "some company/development teams/keep root cause analyses",
          "some company/maintenance/software deployment automated (CI/CD)",
          "some company/observability/track application metrics",
          "some company/observability/track business metrics",
          "some company/observability/track system metrics",
          "some company/quality/use ADR's",
          "some company/quality/use automatic retry mechanisms",
          "some company/organisation context/use story telling",
          "some company/organisation context/work on technical debt",
          "some company/development teams/work with the four key metrics",
          "some company/quality/write idem potent code",
          "some company/architecture",
          "some company/development teams",
          "some company/functionality",
          "some company/legality",
          "some company/maintenance",
          "some company/observability",
          "some company/organisation context",
          "some company/quality",
          "some company/security",
          "some company"
         ],
         "labels": [
          "apply automatisation as a principle",
          "apply encryption",
          "be aware of duplications",
          "be aware of your code hotspots",
          "be aware of your testcoverage",
          "be up to date with your 3rd party vendors",
          "catastrof recovery testing",
          "check failed logins regularly",
          "check owasp dependencies regularly",
          "comply with GDPR",
          "design proper domain models",
          "have a clear shared vision",
          "have a good product owner",
          "have acceptance tests",
          "have access regulation",
          "have access to end users",
          "have alerting",
          "have all licenses",
          "have an accurate datawarehouse",
          "have automated testing",
          "have autonomic teams",
          "have coding standards",
          "have easy and centralized log file access",
          "have integration tests",
          "have regression tests",
          "have sufficient budget",
          "have team dependencies minimized",
          "have teams aligned",
          "have unit tests",
          "have your data backuped",
          "have your infrastructure scripted",
          "keep code reviews",
          "keep cognitive load in check",
          "keep component dependencies minimized",
          "keep retrospectives",
          "keep root cause analyses",
          "software deployment automated (CI/CD)",
          "track application metrics",
          "track business metrics",
          "track system metrics",
          "use ADR's",
          "use automatic retry mechanisms",
          "use story telling",
          "work on technical debt",
          "work with the four key metrics",
          "write idem potent code",
          "architecture",
          "development teams",
          "functionality",
          "legality",
          "maintenance",
          "observability",
          "organisation context",
          "quality",
          "security",
          "some company"
         ],
         "marker": {
          "coloraxis": "coloraxis",
          "colors": [
           1,
           0,
           2,
           2,
           1,
           2,
           2,
           2,
           2,
           0,
           1,
           2,
           1,
           1,
           1,
           2,
           1,
           0,
           1,
           2,
           2,
           1,
           0,
           1,
           1,
           1,
           1,
           0,
           1,
           0,
           2,
           0,
           2,
           1,
           2,
           2,
           1,
           1,
           2,
           0,
           2,
           0,
           2,
           1,
           2,
           0,
           1,
           1.5909090909090908,
           1,
           0,
           1.2291666666666667,
           0.8709677419354839,
           1.4516129032258065,
           1.0151515151515151,
           0.7058823529411765,
           1.0889679715302492
          ]
         },
         "name": "",
         "parents": [
          "some company/quality",
          "some company/security",
          "some company/maintenance",
          "some company/maintenance",
          "some company/maintenance",
          "some company/maintenance",
          "some company/maintenance",
          "some company/maintenance",
          "some company/security",
          "some company/legality",
          "some company/functionality",
          "some company/organisation context",
          "some company/functionality",
          "some company/quality",
          "some company/security",
          "some company/organisation context",
          "some company/maintenance",
          "some company/legality",
          "some company/organisation context",
          "some company/quality",
          "some company/development teams",
          "some company/quality",
          "some company/observability",
          "some company/quality",
          "some company/quality",
          "some company/organisation context",
          "some company/architecture",
          "some company/development teams",
          "some company/quality",
          "some company/maintenance",
          "some company/maintenance",
          "some company/quality",
          "some company/development teams",
          "some company/architecture",
          "some company/development teams",
          "some company/development teams",
          "some company/maintenance",
          "some company/observability",
          "some company/observability",
          "some company/observability",
          "some company/quality",
          "some company/quality",
          "some company/organisation context",
          "some company/organisation context",
          "some company/development teams",
          "some company/quality",
          "some company",
          "some company",
          "some company",
          "some company",
          "some company",
          "some company",
          "some company",
          "some company",
          "some company",
          ""
         ],
         "type": "sunburst",
         "values": [
          4,
          9,
          1,
          1,
          1,
          4,
          4,
          1,
          4,
          9,
          9,
          9,
          9,
          9,
          4,
          4,
          9,
          9,
          9,
          9,
          9,
          1,
          4,
          9,
          9,
          4,
          4,
          9,
          9,
          9,
          9,
          4,
          9,
          4,
          4,
          4,
          9,
          9,
          9,
          9,
          4,
          4,
          1,
          4,
          9,
          4,
          8,
          44,
          18,
          18,
          48,
          31,
          31,
          66,
          17,
          281
         ]
        }
       ],
       "layout": {
        "coloraxis": {
         "colorbar": {
          "title": {
           "text": "improvability_indicator"
          }
         },
         "colorscale": [
          [
           0,
           "green"
          ],
          [
           0.5,
           "orange"
          ],
          [
           1,
           "red"
          ]
         ]
        },
        "legend": {
         "tracegroupgap": 0
        },
        "margin": {
         "t": 60
        },
        "template": {
         "data": {
          "bar": [
           {
            "error_x": {
             "color": "#2a3f5f"
            },
            "error_y": {
             "color": "#2a3f5f"
            },
            "marker": {
             "line": {
              "color": "#E5ECF6",
              "width": 0.5
             }
            },
            "type": "bar"
           }
          ],
          "barpolar": [
           {
            "marker": {
             "line": {
              "color": "#E5ECF6",
              "width": 0.5
             }
            },
            "type": "barpolar"
           }
          ],
          "carpet": [
           {
            "aaxis": {
             "endlinecolor": "#2a3f5f",
             "gridcolor": "white",
             "linecolor": "white",
             "minorgridcolor": "white",
             "startlinecolor": "#2a3f5f"
            },
            "baxis": {
             "endlinecolor": "#2a3f5f",
             "gridcolor": "white",
             "linecolor": "white",
             "minorgridcolor": "white",
             "startlinecolor": "#2a3f5f"
            },
            "type": "carpet"
           }
          ],
          "choropleth": [
           {
            "colorbar": {
             "outlinewidth": 0,
             "ticks": ""
            },
            "type": "choropleth"
           }
          ],
          "contour": [
           {
            "colorbar": {
             "outlinewidth": 0,
             "ticks": ""
            },
            "colorscale": [
             [
              0,
              "#0d0887"
             ],
             [
              0.1111111111111111,
              "#46039f"
             ],
             [
              0.2222222222222222,
              "#7201a8"
             ],
             [
              0.3333333333333333,
              "#9c179e"
             ],
             [
              0.4444444444444444,
              "#bd3786"
             ],
             [
              0.5555555555555556,
              "#d8576b"
             ],
             [
              0.6666666666666666,
              "#ed7953"
             ],
             [
              0.7777777777777778,
              "#fb9f3a"
             ],
             [
              0.8888888888888888,
              "#fdca26"
             ],
             [
              1,
              "#f0f921"
             ]
            ],
            "type": "contour"
           }
          ],
          "contourcarpet": [
           {
            "colorbar": {
             "outlinewidth": 0,
             "ticks": ""
            },
            "type": "contourcarpet"
           }
          ],
          "heatmap": [
           {
            "colorbar": {
             "outlinewidth": 0,
             "ticks": ""
            },
            "colorscale": [
             [
              0,
              "#0d0887"
             ],
             [
              0.1111111111111111,
              "#46039f"
             ],
             [
              0.2222222222222222,
              "#7201a8"
             ],
             [
              0.3333333333333333,
              "#9c179e"
             ],
             [
              0.4444444444444444,
              "#bd3786"
             ],
             [
              0.5555555555555556,
              "#d8576b"
             ],
             [
              0.6666666666666666,
              "#ed7953"
             ],
             [
              0.7777777777777778,
              "#fb9f3a"
             ],
             [
              0.8888888888888888,
              "#fdca26"
             ],
             [
              1,
              "#f0f921"
             ]
            ],
            "type": "heatmap"
           }
          ],
          "heatmapgl": [
           {
            "colorbar": {
             "outlinewidth": 0,
             "ticks": ""
            },
            "colorscale": [
             [
              0,
              "#0d0887"
             ],
             [
              0.1111111111111111,
              "#46039f"
             ],
             [
              0.2222222222222222,
              "#7201a8"
             ],
             [
              0.3333333333333333,
              "#9c179e"
             ],
             [
              0.4444444444444444,
              "#bd3786"
             ],
             [
              0.5555555555555556,
              "#d8576b"
             ],
             [
              0.6666666666666666,
              "#ed7953"
             ],
             [
              0.7777777777777778,
              "#fb9f3a"
             ],
             [
              0.8888888888888888,
              "#fdca26"
             ],
             [
              1,
              "#f0f921"
             ]
            ],
            "type": "heatmapgl"
           }
          ],
          "histogram": [
           {
            "marker": {
             "colorbar": {
              "outlinewidth": 0,
              "ticks": ""
             }
            },
            "type": "histogram"
           }
          ],
          "histogram2d": [
           {
            "colorbar": {
             "outlinewidth": 0,
             "ticks": ""
            },
            "colorscale": [
             [
              0,
              "#0d0887"
             ],
             [
              0.1111111111111111,
              "#46039f"
             ],
             [
              0.2222222222222222,
              "#7201a8"
             ],
             [
              0.3333333333333333,
              "#9c179e"
             ],
             [
              0.4444444444444444,
              "#bd3786"
             ],
             [
              0.5555555555555556,
              "#d8576b"
             ],
             [
              0.6666666666666666,
              "#ed7953"
             ],
             [
              0.7777777777777778,
              "#fb9f3a"
             ],
             [
              0.8888888888888888,
              "#fdca26"
             ],
             [
              1,
              "#f0f921"
             ]
            ],
            "type": "histogram2d"
           }
          ],
          "histogram2dcontour": [
           {
            "colorbar": {
             "outlinewidth": 0,
             "ticks": ""
            },
            "colorscale": [
             [
              0,
              "#0d0887"
             ],
             [
              0.1111111111111111,
              "#46039f"
             ],
             [
              0.2222222222222222,
              "#7201a8"
             ],
             [
              0.3333333333333333,
              "#9c179e"
             ],
             [
              0.4444444444444444,
              "#bd3786"
             ],
             [
              0.5555555555555556,
              "#d8576b"
             ],
             [
              0.6666666666666666,
              "#ed7953"
             ],
             [
              0.7777777777777778,
              "#fb9f3a"
             ],
             [
              0.8888888888888888,
              "#fdca26"
             ],
             [
              1,
              "#f0f921"
             ]
            ],
            "type": "histogram2dcontour"
           }
          ],
          "mesh3d": [
           {
            "colorbar": {
             "outlinewidth": 0,
             "ticks": ""
            },
            "type": "mesh3d"
           }
          ],
          "parcoords": [
           {
            "line": {
             "colorbar": {
              "outlinewidth": 0,
              "ticks": ""
             }
            },
            "type": "parcoords"
           }
          ],
          "pie": [
           {
            "automargin": true,
            "type": "pie"
           }
          ],
          "scatter": [
           {
            "marker": {
             "colorbar": {
              "outlinewidth": 0,
              "ticks": ""
             }
            },
            "type": "scatter"
           }
          ],
          "scatter3d": [
           {
            "line": {
             "colorbar": {
              "outlinewidth": 0,
              "ticks": ""
             }
            },
            "marker": {
             "colorbar": {
              "outlinewidth": 0,
              "ticks": ""
             }
            },
            "type": "scatter3d"
           }
          ],
          "scattercarpet": [
           {
            "marker": {
             "colorbar": {
              "outlinewidth": 0,
              "ticks": ""
             }
            },
            "type": "scattercarpet"
           }
          ],
          "scattergeo": [
           {
            "marker": {
             "colorbar": {
              "outlinewidth": 0,
              "ticks": ""
             }
            },
            "type": "scattergeo"
           }
          ],
          "scattergl": [
           {
            "marker": {
             "colorbar": {
              "outlinewidth": 0,
              "ticks": ""
             }
            },
            "type": "scattergl"
           }
          ],
          "scattermapbox": [
           {
            "marker": {
             "colorbar": {
              "outlinewidth": 0,
              "ticks": ""
             }
            },
            "type": "scattermapbox"
           }
          ],
          "scatterpolar": [
           {
            "marker": {
             "colorbar": {
              "outlinewidth": 0,
              "ticks": ""
             }
            },
            "type": "scatterpolar"
           }
          ],
          "scatterpolargl": [
           {
            "marker": {
             "colorbar": {
              "outlinewidth": 0,
              "ticks": ""
             }
            },
            "type": "scatterpolargl"
           }
          ],
          "scatterternary": [
           {
            "marker": {
             "colorbar": {
              "outlinewidth": 0,
              "ticks": ""
             }
            },
            "type": "scatterternary"
           }
          ],
          "surface": [
           {
            "colorbar": {
             "outlinewidth": 0,
             "ticks": ""
            },
            "colorscale": [
             [
              0,
              "#0d0887"
             ],
             [
              0.1111111111111111,
              "#46039f"
             ],
             [
              0.2222222222222222,
              "#7201a8"
             ],
             [
              0.3333333333333333,
              "#9c179e"
             ],
             [
              0.4444444444444444,
              "#bd3786"
             ],
             [
              0.5555555555555556,
              "#d8576b"
             ],
             [
              0.6666666666666666,
              "#ed7953"
             ],
             [
              0.7777777777777778,
              "#fb9f3a"
             ],
             [
              0.8888888888888888,
              "#fdca26"
             ],
             [
              1,
              "#f0f921"
             ]
            ],
            "type": "surface"
           }
          ],
          "table": [
           {
            "cells": {
             "fill": {
              "color": "#EBF0F8"
             },
             "line": {
              "color": "white"
             }
            },
            "header": {
             "fill": {
              "color": "#C8D4E3"
             },
             "line": {
              "color": "white"
             }
            },
            "type": "table"
           }
          ]
         },
         "layout": {
          "annotationdefaults": {
           "arrowcolor": "#2a3f5f",
           "arrowhead": 0,
           "arrowwidth": 1
          },
          "autotypenumbers": "strict",
          "coloraxis": {
           "colorbar": {
            "outlinewidth": 0,
            "ticks": ""
           }
          },
          "colorscale": {
           "diverging": [
            [
             0,
             "#8e0152"
            ],
            [
             0.1,
             "#c51b7d"
            ],
            [
             0.2,
             "#de77ae"
            ],
            [
             0.3,
             "#f1b6da"
            ],
            [
             0.4,
             "#fde0ef"
            ],
            [
             0.5,
             "#f7f7f7"
            ],
            [
             0.6,
             "#e6f5d0"
            ],
            [
             0.7,
             "#b8e186"
            ],
            [
             0.8,
             "#7fbc41"
            ],
            [
             0.9,
             "#4d9221"
            ],
            [
             1,
             "#276419"
            ]
           ],
           "sequential": [
            [
             0,
             "#0d0887"
            ],
            [
             0.1111111111111111,
             "#46039f"
            ],
            [
             0.2222222222222222,
             "#7201a8"
            ],
            [
             0.3333333333333333,
             "#9c179e"
            ],
            [
             0.4444444444444444,
             "#bd3786"
            ],
            [
             0.5555555555555556,
             "#d8576b"
            ],
            [
             0.6666666666666666,
             "#ed7953"
            ],
            [
             0.7777777777777778,
             "#fb9f3a"
            ],
            [
             0.8888888888888888,
             "#fdca26"
            ],
            [
             1,
             "#f0f921"
            ]
           ],
           "sequentialminus": [
            [
             0,
             "#0d0887"
            ],
            [
             0.1111111111111111,
             "#46039f"
            ],
            [
             0.2222222222222222,
             "#7201a8"
            ],
            [
             0.3333333333333333,
             "#9c179e"
            ],
            [
             0.4444444444444444,
             "#bd3786"
            ],
            [
             0.5555555555555556,
             "#d8576b"
            ],
            [
             0.6666666666666666,
             "#ed7953"
            ],
            [
             0.7777777777777778,
             "#fb9f3a"
            ],
            [
             0.8888888888888888,
             "#fdca26"
            ],
            [
             1,
             "#f0f921"
            ]
           ]
          },
          "colorway": [
           "#636efa",
           "#EF553B",
           "#00cc96",
           "#ab63fa",
           "#FFA15A",
           "#19d3f3",
           "#FF6692",
           "#B6E880",
           "#FF97FF",
           "#FECB52"
          ],
          "font": {
           "color": "#2a3f5f"
          },
          "geo": {
           "bgcolor": "white",
           "lakecolor": "white",
           "landcolor": "#E5ECF6",
           "showlakes": true,
           "showland": true,
           "subunitcolor": "white"
          },
          "hoverlabel": {
           "align": "left"
          },
          "hovermode": "closest",
          "mapbox": {
           "style": "light"
          },
          "paper_bgcolor": "white",
          "plot_bgcolor": "#E5ECF6",
          "polar": {
           "angularaxis": {
            "gridcolor": "white",
            "linecolor": "white",
            "ticks": ""
           },
           "bgcolor": "#E5ECF6",
           "radialaxis": {
            "gridcolor": "white",
            "linecolor": "white",
            "ticks": ""
           }
          },
          "scene": {
           "xaxis": {
            "backgroundcolor": "#E5ECF6",
            "gridcolor": "white",
            "gridwidth": 2,
            "linecolor": "white",
            "showbackground": true,
            "ticks": "",
            "zerolinecolor": "white"
           },
           "yaxis": {
            "backgroundcolor": "#E5ECF6",
            "gridcolor": "white",
            "gridwidth": 2,
            "linecolor": "white",
            "showbackground": true,
            "ticks": "",
            "zerolinecolor": "white"
           },
           "zaxis": {
            "backgroundcolor": "#E5ECF6",
            "gridcolor": "white",
            "gridwidth": 2,
            "linecolor": "white",
            "showbackground": true,
            "ticks": "",
            "zerolinecolor": "white"
           }
          },
          "shapedefaults": {
           "line": {
            "color": "#2a3f5f"
           }
          },
          "ternary": {
           "aaxis": {
            "gridcolor": "white",
            "linecolor": "white",
            "ticks": ""
           },
           "baxis": {
            "gridcolor": "white",
            "linecolor": "white",
            "ticks": ""
           },
           "bgcolor": "#E5ECF6",
           "caxis": {
            "gridcolor": "white",
            "linecolor": "white",
            "ticks": ""
           }
          },
          "title": {
           "x": 0.05
          },
          "xaxis": {
           "automargin": true,
           "gridcolor": "white",
           "linecolor": "white",
           "ticks": "",
           "title": {
            "standoff": 15
           },
           "zerolinecolor": "white",
           "zerolinewidth": 2
          },
          "yaxis": {
           "automargin": true,
           "gridcolor": "white",
           "linecolor": "white",
           "ticks": "",
           "title": {
            "standoff": 15
           },
           "zerolinecolor": "white",
           "zerolinewidth": 2
          }
         }
        }
       }
      }
     },
     "metadata": {}
    }
   ],
   "source": [
    "fig = px.sunburst(df, path=['IT ecosystem', 'category', 'would_you_like_to_question'], values='must_should_nice_to_have',\n",
    "                  color='improvability_indicator', color_discrete_map={0:'green', 1:'orange', 2:'red'},\n",
    "                  color_continuous_scale=[[0, 'green'], [0.5, 'orange'], [1, 'red']])\n",
    "fig.show()"
   ]
  },
  {
   "cell_type": "code",
   "execution_count": null,
   "metadata": {},
   "outputs": [],
   "source": []
  }
 ],
 "metadata": {
  "kernelspec": {
   "name": "python3",
   "display_name": "Python 3.9.0 64-bit",
   "metadata": {
    "interpreter": {
     "hash": "562a5e110b062d4cafd6768c800aef869e55e1296f0baa78152574ee94c07aa9"
    }
   }
  },
  "language_info": {
   "codemirror_mode": {
    "name": "ipython",
    "version": 3
   },
   "file_extension": ".py",
   "mimetype": "text/x-python",
   "name": "python",
   "nbconvert_exporter": "python",
   "pygments_lexer": "ipython3",
   "version": "3.9.0-final"
  }
 },
 "nbformat": 4,
 "nbformat_minor": 5
}