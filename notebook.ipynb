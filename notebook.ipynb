{
 "cells": [
  {
   "cell_type": "code",
   "execution_count": 1,
   "id": "anonymous-matthew",
   "metadata": {},
   "outputs": [],
   "source": [
    "import pandas as pd\n",
    "import plotly.express as px\n",
    "import numpy as np"
   ]
  },
  {
   "cell_type": "markdown",
   "id": "becoming-tolerance",
   "metadata": {},
   "source": [
    "First read the data and ignore rows with no weight."
   ]
  },
  {
   "source": [
    "df = pd.read_csv('some_company.csv', sep=';')\n",
    "df = df[df.weight != 0]\n",
    "df.head()\n",
    "#display(df)"
   ],
   "cell_type": "code",
   "metadata": {},
   "execution_count": 2,
   "outputs": [
    {
     "output_type": "execute_result",
     "data": {
      "text/plain": [
       "   IT ecosystem         aspect                 category information  rating  \\\n",
       "0  some company       legality                     GDPR         NaN       1   \n",
       "1  some company       legality                licensing         NaN       1   \n",
       "4  some company       security               encryption         NaN       1   \n",
       "5  some company       security  owasp dependency checks         NaN      -1   \n",
       "6  some company  observability         business metrics         NaN       0   \n",
       "\n",
       "   weight rating_reason  \n",
       "0       2      a reason  \n",
       "1       1      a reason  \n",
       "4       2      a reason  \n",
       "5       1      a reason  \n",
       "6       3      a reason  "
      ],
      "text/html": "<div>\n<style scoped>\n    .dataframe tbody tr th:only-of-type {\n        vertical-align: middle;\n    }\n\n    .dataframe tbody tr th {\n        vertical-align: top;\n    }\n\n    .dataframe thead th {\n        text-align: right;\n    }\n</style>\n<table border=\"1\" class=\"dataframe\">\n  <thead>\n    <tr style=\"text-align: right;\">\n      <th></th>\n      <th>IT ecosystem</th>\n      <th>aspect</th>\n      <th>category</th>\n      <th>information</th>\n      <th>rating</th>\n      <th>weight</th>\n      <th>rating_reason</th>\n    </tr>\n  </thead>\n  <tbody>\n    <tr>\n      <th>0</th>\n      <td>some company</td>\n      <td>legality</td>\n      <td>GDPR</td>\n      <td>NaN</td>\n      <td>1</td>\n      <td>2</td>\n      <td>a reason</td>\n    </tr>\n    <tr>\n      <th>1</th>\n      <td>some company</td>\n      <td>legality</td>\n      <td>licensing</td>\n      <td>NaN</td>\n      <td>1</td>\n      <td>1</td>\n      <td>a reason</td>\n    </tr>\n    <tr>\n      <th>4</th>\n      <td>some company</td>\n      <td>security</td>\n      <td>encryption</td>\n      <td>NaN</td>\n      <td>1</td>\n      <td>2</td>\n      <td>a reason</td>\n    </tr>\n    <tr>\n      <th>5</th>\n      <td>some company</td>\n      <td>security</td>\n      <td>owasp dependency checks</td>\n      <td>NaN</td>\n      <td>-1</td>\n      <td>1</td>\n      <td>a reason</td>\n    </tr>\n    <tr>\n      <th>6</th>\n      <td>some company</td>\n      <td>observability</td>\n      <td>business metrics</td>\n      <td>NaN</td>\n      <td>0</td>\n      <td>3</td>\n      <td>a reason</td>\n    </tr>\n  </tbody>\n</table>\n</div>"
     },
     "metadata": {},
     "execution_count": 2
    }
   ]
  },
  {
   "source": [
    "Draw the sunburst diagram. It is meant to visualize the state of the IT ecosystem of the company based on 'gut feeling' ratings (that is why only three values are advised to consider (-1, 0 or 1)). Hovering over labels shows explanations of why the rating for the company is what it is (_this feature is not yet implemented_). The visualization gives an overview in which areas can be improved. Therefore it can be used in discussions and prioritizations."
   ],
   "cell_type": "markdown",
   "metadata": {}
  },
  {
   "cell_type": "code",
   "execution_count": 8,
   "id": "published-manhattan",
   "metadata": {},
   "outputs": [
    {
     "output_type": "display_data",
     "data": {
      "application/vnd.plotly.v1+json": {
       "config": {
        "plotlyServerURL": "https://plot.ly"
       },
       "data": [
        {
         "branchvalues": "total",
         "customdata": [
          [
           -1
          ],
          [
           1
          ],
          [
           -1
          ],
          [
           0
          ],
          [
           -1
          ],
          [
           0
          ],
          [
           0
          ],
          [
           0
          ],
          [
           0
          ],
          [
           1
          ],
          [
           1
          ],
          [
           0
          ],
          [
           1
          ],
          [
           -1
          ],
          [
           -1
          ],
          [
           -1
          ],
          [
           0
          ],
          [
           1
          ],
          [
           1
          ],
          [
           0
          ],
          [
           0
          ],
          [
           -1
          ],
          [
           -1
          ],
          [
           0
          ],
          [
           0
          ],
          [
           1
          ],
          [
           -1
          ],
          [
           0
          ],
          [
           0
          ],
          [
           0
          ],
          [
           -1
          ],
          [
           0.4
          ],
          [
           0
          ],
          [
           -1
          ],
          [
           1
          ],
          [
           -0.09090909090909091
          ],
          [
           -1
          ],
          [
           0
          ],
          [
           0.3333333333333333
          ],
          [
           -0.13559322033898305
          ]
         ],
         "domain": {
          "x": [
           0,
           1
          ],
          "y": [
           0,
           1
          ]
         },
         "hovertemplate": "labels=%{label}<br>weight=%{value}<br>parent=%{parent}<br>id=%{id}<br>rating=%{color}<extra></extra>",
         "ids": [
          "some company/organisation context/ADR/story telling",
          "some company/legality/GDPR",
          "some company/quality/adoptability",
          "some company/development teams/alignment",
          "some company/observability/application metrics",
          "some company/quality/automated testing",
          "some company/development teams/autonomy",
          "some company/observability/business metrics",
          "some company/observability/code metrics",
          "some company/development teams/cognitive load",
          "some company/architecture/component dependencies",
          "some company/development teams/development process",
          "some company/security/encryption",
          "some company/organisation context/end user accessability",
          "some company/development teams/four key metrics",
          "some company/organisation context/four key metrics",
          "some company/quality/general automatisation",
          "some company/legality/licensing",
          "some company/observability/log file access",
          "some company/quality/maintainability",
          "some company/quality/modifyability",
          "some company/security/owasp dependency checks",
          "some company/functionality/product owner",
          "some company/quality/recoverability",
          "some company/quality/reliability",
          "some company/quality/reviews",
          "some company/observability/source control metrics",
          "some company/observability/system metrics",
          "some company/architecture/team dependencies",
          "some company/quality/testability",
          "some company/organisation context/vision",
          "some company/architecture",
          "some company/development teams",
          "some company/functionality",
          "some company/legality",
          "some company/observability",
          "some company/organisation context",
          "some company/quality",
          "some company/security",
          "some company"
         ],
         "labels": [
          "ADR/story telling",
          "GDPR",
          "adoptability",
          "alignment",
          "application metrics",
          "automated testing",
          "autonomy",
          "business metrics",
          "code metrics",
          "cognitive load",
          "component dependencies",
          "development process",
          "encryption",
          "end user accessability",
          "four key metrics",
          "four key metrics",
          "general automatisation",
          "licensing",
          "log file access",
          "maintainability",
          "modifyability",
          "owasp dependency checks",
          "product owner",
          "recoverability",
          "reliability",
          "reviews",
          "source control metrics",
          "system metrics",
          "team dependencies",
          "testability",
          "vision",
          "architecture",
          "development teams",
          "functionality",
          "legality",
          "observability",
          "organisation context",
          "quality",
          "security",
          "some company"
         ],
         "marker": {
          "coloraxis": "coloraxis",
          "colors": [
           -1,
           1,
           -1,
           0,
           -1,
           0,
           0,
           0,
           0,
           1,
           1,
           0,
           1,
           -1,
           -1,
           -1,
           0,
           1,
           1,
           0,
           0,
           -1,
           -1,
           0,
           0,
           1,
           -1,
           0,
           0,
           0,
           -1,
           0.4,
           0,
           -1,
           1,
           -0.09090909090909091,
           -1,
           0,
           0.3333333333333333,
           -0.13559322033898305
          ]
         },
         "name": "",
         "parents": [
          "some company/organisation context",
          "some company/legality",
          "some company/quality",
          "some company/development teams",
          "some company/observability",
          "some company/quality",
          "some company/development teams",
          "some company/observability",
          "some company/observability",
          "some company/development teams",
          "some company/architecture",
          "some company/development teams",
          "some company/security",
          "some company/organisation context",
          "some company/development teams",
          "some company/organisation context",
          "some company/quality",
          "some company/legality",
          "some company/observability",
          "some company/quality",
          "some company/quality",
          "some company/security",
          "some company/functionality",
          "some company/quality",
          "some company/quality",
          "some company/quality",
          "some company/observability",
          "some company/observability",
          "some company/architecture",
          "some company/quality",
          "some company/organisation context",
          "some company",
          "some company",
          "some company",
          "some company",
          "some company",
          "some company",
          "some company",
          "some company",
          ""
         ],
         "type": "sunburst",
         "values": [
          1,
          2,
          1,
          3,
          2,
          2,
          3,
          3,
          1,
          3,
          2,
          2,
          2,
          3,
          3,
          3,
          1,
          1,
          2,
          1,
          1,
          1,
          3,
          1,
          1,
          1,
          1,
          2,
          3,
          1,
          3,
          5,
          14,
          3,
          3,
          11,
          10,
          10,
          3,
          59
         ]
        }
       ],
       "layout": {
        "coloraxis": {
         "colorbar": {
          "title": {
           "text": "rating"
          }
         },
         "colorscale": [
          [
           0,
           "red"
          ],
          [
           0.5,
           "orange"
          ],
          [
           1,
           "green"
          ]
         ]
        },
        "legend": {
         "tracegroupgap": 0
        },
        "margin": {
         "t": 60
        },
        "template": {
         "data": {
          "bar": [
           {
            "error_x": {
             "color": "#2a3f5f"
            },
            "error_y": {
             "color": "#2a3f5f"
            },
            "marker": {
             "line": {
              "color": "#E5ECF6",
              "width": 0.5
             }
            },
            "type": "bar"
           }
          ],
          "barpolar": [
           {
            "marker": {
             "line": {
              "color": "#E5ECF6",
              "width": 0.5
             }
            },
            "type": "barpolar"
           }
          ],
          "carpet": [
           {
            "aaxis": {
             "endlinecolor": "#2a3f5f",
             "gridcolor": "white",
             "linecolor": "white",
             "minorgridcolor": "white",
             "startlinecolor": "#2a3f5f"
            },
            "baxis": {
             "endlinecolor": "#2a3f5f",
             "gridcolor": "white",
             "linecolor": "white",
             "minorgridcolor": "white",
             "startlinecolor": "#2a3f5f"
            },
            "type": "carpet"
           }
          ],
          "choropleth": [
           {
            "colorbar": {
             "outlinewidth": 0,
             "ticks": ""
            },
            "type": "choropleth"
           }
          ],
          "contour": [
           {
            "colorbar": {
             "outlinewidth": 0,
             "ticks": ""
            },
            "colorscale": [
             [
              0,
              "#0d0887"
             ],
             [
              0.1111111111111111,
              "#46039f"
             ],
             [
              0.2222222222222222,
              "#7201a8"
             ],
             [
              0.3333333333333333,
              "#9c179e"
             ],
             [
              0.4444444444444444,
              "#bd3786"
             ],
             [
              0.5555555555555556,
              "#d8576b"
             ],
             [
              0.6666666666666666,
              "#ed7953"
             ],
             [
              0.7777777777777778,
              "#fb9f3a"
             ],
             [
              0.8888888888888888,
              "#fdca26"
             ],
             [
              1,
              "#f0f921"
             ]
            ],
            "type": "contour"
           }
          ],
          "contourcarpet": [
           {
            "colorbar": {
             "outlinewidth": 0,
             "ticks": ""
            },
            "type": "contourcarpet"
           }
          ],
          "heatmap": [
           {
            "colorbar": {
             "outlinewidth": 0,
             "ticks": ""
            },
            "colorscale": [
             [
              0,
              "#0d0887"
             ],
             [
              0.1111111111111111,
              "#46039f"
             ],
             [
              0.2222222222222222,
              "#7201a8"
             ],
             [
              0.3333333333333333,
              "#9c179e"
             ],
             [
              0.4444444444444444,
              "#bd3786"
             ],
             [
              0.5555555555555556,
              "#d8576b"
             ],
             [
              0.6666666666666666,
              "#ed7953"
             ],
             [
              0.7777777777777778,
              "#fb9f3a"
             ],
             [
              0.8888888888888888,
              "#fdca26"
             ],
             [
              1,
              "#f0f921"
             ]
            ],
            "type": "heatmap"
           }
          ],
          "heatmapgl": [
           {
            "colorbar": {
             "outlinewidth": 0,
             "ticks": ""
            },
            "colorscale": [
             [
              0,
              "#0d0887"
             ],
             [
              0.1111111111111111,
              "#46039f"
             ],
             [
              0.2222222222222222,
              "#7201a8"
             ],
             [
              0.3333333333333333,
              "#9c179e"
             ],
             [
              0.4444444444444444,
              "#bd3786"
             ],
             [
              0.5555555555555556,
              "#d8576b"
             ],
             [
              0.6666666666666666,
              "#ed7953"
             ],
             [
              0.7777777777777778,
              "#fb9f3a"
             ],
             [
              0.8888888888888888,
              "#fdca26"
             ],
             [
              1,
              "#f0f921"
             ]
            ],
            "type": "heatmapgl"
           }
          ],
          "histogram": [
           {
            "marker": {
             "colorbar": {
              "outlinewidth": 0,
              "ticks": ""
             }
            },
            "type": "histogram"
           }
          ],
          "histogram2d": [
           {
            "colorbar": {
             "outlinewidth": 0,
             "ticks": ""
            },
            "colorscale": [
             [
              0,
              "#0d0887"
             ],
             [
              0.1111111111111111,
              "#46039f"
             ],
             [
              0.2222222222222222,
              "#7201a8"
             ],
             [
              0.3333333333333333,
              "#9c179e"
             ],
             [
              0.4444444444444444,
              "#bd3786"
             ],
             [
              0.5555555555555556,
              "#d8576b"
             ],
             [
              0.6666666666666666,
              "#ed7953"
             ],
             [
              0.7777777777777778,
              "#fb9f3a"
             ],
             [
              0.8888888888888888,
              "#fdca26"
             ],
             [
              1,
              "#f0f921"
             ]
            ],
            "type": "histogram2d"
           }
          ],
          "histogram2dcontour": [
           {
            "colorbar": {
             "outlinewidth": 0,
             "ticks": ""
            },
            "colorscale": [
             [
              0,
              "#0d0887"
             ],
             [
              0.1111111111111111,
              "#46039f"
             ],
             [
              0.2222222222222222,
              "#7201a8"
             ],
             [
              0.3333333333333333,
              "#9c179e"
             ],
             [
              0.4444444444444444,
              "#bd3786"
             ],
             [
              0.5555555555555556,
              "#d8576b"
             ],
             [
              0.6666666666666666,
              "#ed7953"
             ],
             [
              0.7777777777777778,
              "#fb9f3a"
             ],
             [
              0.8888888888888888,
              "#fdca26"
             ],
             [
              1,
              "#f0f921"
             ]
            ],
            "type": "histogram2dcontour"
           }
          ],
          "mesh3d": [
           {
            "colorbar": {
             "outlinewidth": 0,
             "ticks": ""
            },
            "type": "mesh3d"
           }
          ],
          "parcoords": [
           {
            "line": {
             "colorbar": {
              "outlinewidth": 0,
              "ticks": ""
             }
            },
            "type": "parcoords"
           }
          ],
          "pie": [
           {
            "automargin": true,
            "type": "pie"
           }
          ],
          "scatter": [
           {
            "marker": {
             "colorbar": {
              "outlinewidth": 0,
              "ticks": ""
             }
            },
            "type": "scatter"
           }
          ],
          "scatter3d": [
           {
            "line": {
             "colorbar": {
              "outlinewidth": 0,
              "ticks": ""
             }
            },
            "marker": {
             "colorbar": {
              "outlinewidth": 0,
              "ticks": ""
             }
            },
            "type": "scatter3d"
           }
          ],
          "scattercarpet": [
           {
            "marker": {
             "colorbar": {
              "outlinewidth": 0,
              "ticks": ""
             }
            },
            "type": "scattercarpet"
           }
          ],
          "scattergeo": [
           {
            "marker": {
             "colorbar": {
              "outlinewidth": 0,
              "ticks": ""
             }
            },
            "type": "scattergeo"
           }
          ],
          "scattergl": [
           {
            "marker": {
             "colorbar": {
              "outlinewidth": 0,
              "ticks": ""
             }
            },
            "type": "scattergl"
           }
          ],
          "scattermapbox": [
           {
            "marker": {
             "colorbar": {
              "outlinewidth": 0,
              "ticks": ""
             }
            },
            "type": "scattermapbox"
           }
          ],
          "scatterpolar": [
           {
            "marker": {
             "colorbar": {
              "outlinewidth": 0,
              "ticks": ""
             }
            },
            "type": "scatterpolar"
           }
          ],
          "scatterpolargl": [
           {
            "marker": {
             "colorbar": {
              "outlinewidth": 0,
              "ticks": ""
             }
            },
            "type": "scatterpolargl"
           }
          ],
          "scatterternary": [
           {
            "marker": {
             "colorbar": {
              "outlinewidth": 0,
              "ticks": ""
             }
            },
            "type": "scatterternary"
           }
          ],
          "surface": [
           {
            "colorbar": {
             "outlinewidth": 0,
             "ticks": ""
            },
            "colorscale": [
             [
              0,
              "#0d0887"
             ],
             [
              0.1111111111111111,
              "#46039f"
             ],
             [
              0.2222222222222222,
              "#7201a8"
             ],
             [
              0.3333333333333333,
              "#9c179e"
             ],
             [
              0.4444444444444444,
              "#bd3786"
             ],
             [
              0.5555555555555556,
              "#d8576b"
             ],
             [
              0.6666666666666666,
              "#ed7953"
             ],
             [
              0.7777777777777778,
              "#fb9f3a"
             ],
             [
              0.8888888888888888,
              "#fdca26"
             ],
             [
              1,
              "#f0f921"
             ]
            ],
            "type": "surface"
           }
          ],
          "table": [
           {
            "cells": {
             "fill": {
              "color": "#EBF0F8"
             },
             "line": {
              "color": "white"
             }
            },
            "header": {
             "fill": {
              "color": "#C8D4E3"
             },
             "line": {
              "color": "white"
             }
            },
            "type": "table"
           }
          ]
         },
         "layout": {
          "annotationdefaults": {
           "arrowcolor": "#2a3f5f",
           "arrowhead": 0,
           "arrowwidth": 1
          },
          "autotypenumbers": "strict",
          "coloraxis": {
           "colorbar": {
            "outlinewidth": 0,
            "ticks": ""
           }
          },
          "colorscale": {
           "diverging": [
            [
             0,
             "#8e0152"
            ],
            [
             0.1,
             "#c51b7d"
            ],
            [
             0.2,
             "#de77ae"
            ],
            [
             0.3,
             "#f1b6da"
            ],
            [
             0.4,
             "#fde0ef"
            ],
            [
             0.5,
             "#f7f7f7"
            ],
            [
             0.6,
             "#e6f5d0"
            ],
            [
             0.7,
             "#b8e186"
            ],
            [
             0.8,
             "#7fbc41"
            ],
            [
             0.9,
             "#4d9221"
            ],
            [
             1,
             "#276419"
            ]
           ],
           "sequential": [
            [
             0,
             "#0d0887"
            ],
            [
             0.1111111111111111,
             "#46039f"
            ],
            [
             0.2222222222222222,
             "#7201a8"
            ],
            [
             0.3333333333333333,
             "#9c179e"
            ],
            [
             0.4444444444444444,
             "#bd3786"
            ],
            [
             0.5555555555555556,
             "#d8576b"
            ],
            [
             0.6666666666666666,
             "#ed7953"
            ],
            [
             0.7777777777777778,
             "#fb9f3a"
            ],
            [
             0.8888888888888888,
             "#fdca26"
            ],
            [
             1,
             "#f0f921"
            ]
           ],
           "sequentialminus": [
            [
             0,
             "#0d0887"
            ],
            [
             0.1111111111111111,
             "#46039f"
            ],
            [
             0.2222222222222222,
             "#7201a8"
            ],
            [
             0.3333333333333333,
             "#9c179e"
            ],
            [
             0.4444444444444444,
             "#bd3786"
            ],
            [
             0.5555555555555556,
             "#d8576b"
            ],
            [
             0.6666666666666666,
             "#ed7953"
            ],
            [
             0.7777777777777778,
             "#fb9f3a"
            ],
            [
             0.8888888888888888,
             "#fdca26"
            ],
            [
             1,
             "#f0f921"
            ]
           ]
          },
          "colorway": [
           "#636efa",
           "#EF553B",
           "#00cc96",
           "#ab63fa",
           "#FFA15A",
           "#19d3f3",
           "#FF6692",
           "#B6E880",
           "#FF97FF",
           "#FECB52"
          ],
          "font": {
           "color": "#2a3f5f"
          },
          "geo": {
           "bgcolor": "white",
           "lakecolor": "white",
           "landcolor": "#E5ECF6",
           "showlakes": true,
           "showland": true,
           "subunitcolor": "white"
          },
          "hoverlabel": {
           "align": "left"
          },
          "hovermode": "closest",
          "mapbox": {
           "style": "light"
          },
          "paper_bgcolor": "white",
          "plot_bgcolor": "#E5ECF6",
          "polar": {
           "angularaxis": {
            "gridcolor": "white",
            "linecolor": "white",
            "ticks": ""
           },
           "bgcolor": "#E5ECF6",
           "radialaxis": {
            "gridcolor": "white",
            "linecolor": "white",
            "ticks": ""
           }
          },
          "scene": {
           "xaxis": {
            "backgroundcolor": "#E5ECF6",
            "gridcolor": "white",
            "gridwidth": 2,
            "linecolor": "white",
            "showbackground": true,
            "ticks": "",
            "zerolinecolor": "white"
           },
           "yaxis": {
            "backgroundcolor": "#E5ECF6",
            "gridcolor": "white",
            "gridwidth": 2,
            "linecolor": "white",
            "showbackground": true,
            "ticks": "",
            "zerolinecolor": "white"
           },
           "zaxis": {
            "backgroundcolor": "#E5ECF6",
            "gridcolor": "white",
            "gridwidth": 2,
            "linecolor": "white",
            "showbackground": true,
            "ticks": "",
            "zerolinecolor": "white"
           }
          },
          "shapedefaults": {
           "line": {
            "color": "#2a3f5f"
           }
          },
          "ternary": {
           "aaxis": {
            "gridcolor": "white",
            "linecolor": "white",
            "ticks": ""
           },
           "baxis": {
            "gridcolor": "white",
            "linecolor": "white",
            "ticks": ""
           },
           "bgcolor": "#E5ECF6",
           "caxis": {
            "gridcolor": "white",
            "linecolor": "white",
            "ticks": ""
           }
          },
          "title": {
           "x": 0.05
          },
          "xaxis": {
           "automargin": true,
           "gridcolor": "white",
           "linecolor": "white",
           "ticks": "",
           "title": {
            "standoff": 15
           },
           "zerolinecolor": "white",
           "zerolinewidth": 2
          },
          "yaxis": {
           "automargin": true,
           "gridcolor": "white",
           "linecolor": "white",
           "ticks": "",
           "title": {
            "standoff": 15
           },
           "zerolinecolor": "white",
           "zerolinewidth": 2
          }
         }
        }
       }
      }
     },
     "metadata": {}
    }
   ],
   "source": [
    "fig = px.sunburst(df, path=['IT ecosystem', 'aspect', 'category'], values='weight',\n",
    "                  color='rating', color_discrete_map={-1:'red', 0:'orange', 1:'green'},\n",
    "                  color_continuous_scale=[[0, 'red'], [0.5, 'orange'], [1, 'green']])\n",
    "fig.show()"
   ]
  },
  {
   "source": [
    "Information about the labels in the outer ring can be found below."
   ],
   "cell_type": "markdown",
   "metadata": {}
  },
  {
   "cell_type": "code",
   "execution_count": 10,
   "metadata": {},
   "outputs": [
    {
     "output_type": "display_data",
     "data": {
      "text/plain": "                  aspect                 category  \\\n0               legality                     GDPR   \n1               legality                licensing   \n4               security               encryption   \n5               security  owasp dependency checks   \n6          observability         business metrics   \n7          observability      application metrics   \n8          observability           system metrics   \n9          observability             code metrics   \n10         observability   source control metrics   \n11         observability          log file access   \n12          architecture   component dependencies   \n13          architecture        team dependencies   \n15     development teams                alignment   \n16     development teams                 autonomy   \n17     development teams           cognitive load   \n18     development teams      development process   \n19     development teams         four key metrics   \n20               quality        automated testing   \n21               quality   general automatisation   \n22               quality                  reviews   \n23               quality          maintainability   \n24               quality             adoptability   \n25               quality            modifyability   \n26               quality              testability   \n27               quality              reliability   \n28               quality           recoverability   \n30  organisation context                   vision   \n31  organisation context        ADR/story telling   \n33  organisation context         four key metrics   \n34  organisation context   end user accessability   \n37         functionality            product owner   \n\n                                          information  \n0                                                 NaN  \n1                                                 NaN  \n4                                                 NaN  \n5                                                 NaN  \n6                                                 NaN  \n7                                                 NaN  \n8                                                 NaN  \n9                                                 NaN  \n10                                                NaN  \n11                                                NaN  \n12                                                NaN  \n13                                                NaN  \n15                                                NaN  \n16                                                NaN  \n17                                                NaN  \n18                                                NaN  \n19                                                NaN  \n20                                                NaN  \n21                                                NaN  \n22                                                NaN  \n23                                                NaN  \n24                                                NaN  \n25                                                NaN  \n26                                                NaN  \n27                                                NaN  \n28                                                NaN  \n30                                                NaN  \n31                                                NaN  \n33                                                NaN  \n34                                                NaN  \n37  Are the right business users easily found and ...  ",
      "text/html": "<div>\n<style scoped>\n    .dataframe tbody tr th:only-of-type {\n        vertical-align: middle;\n    }\n\n    .dataframe tbody tr th {\n        vertical-align: top;\n    }\n\n    .dataframe thead th {\n        text-align: right;\n    }\n</style>\n<table border=\"1\" class=\"dataframe\">\n  <thead>\n    <tr style=\"text-align: right;\">\n      <th></th>\n      <th>aspect</th>\n      <th>category</th>\n      <th>information</th>\n    </tr>\n  </thead>\n  <tbody>\n    <tr>\n      <th>0</th>\n      <td>legality</td>\n      <td>GDPR</td>\n      <td>NaN</td>\n    </tr>\n    <tr>\n      <th>1</th>\n      <td>legality</td>\n      <td>licensing</td>\n      <td>NaN</td>\n    </tr>\n    <tr>\n      <th>4</th>\n      <td>security</td>\n      <td>encryption</td>\n      <td>NaN</td>\n    </tr>\n    <tr>\n      <th>5</th>\n      <td>security</td>\n      <td>owasp dependency checks</td>\n      <td>NaN</td>\n    </tr>\n    <tr>\n      <th>6</th>\n      <td>observability</td>\n      <td>business metrics</td>\n      <td>NaN</td>\n    </tr>\n    <tr>\n      <th>7</th>\n      <td>observability</td>\n      <td>application metrics</td>\n      <td>NaN</td>\n    </tr>\n    <tr>\n      <th>8</th>\n      <td>observability</td>\n      <td>system metrics</td>\n      <td>NaN</td>\n    </tr>\n    <tr>\n      <th>9</th>\n      <td>observability</td>\n      <td>code metrics</td>\n      <td>NaN</td>\n    </tr>\n    <tr>\n      <th>10</th>\n      <td>observability</td>\n      <td>source control metrics</td>\n      <td>NaN</td>\n    </tr>\n    <tr>\n      <th>11</th>\n      <td>observability</td>\n      <td>log file access</td>\n      <td>NaN</td>\n    </tr>\n    <tr>\n      <th>12</th>\n      <td>architecture</td>\n      <td>component dependencies</td>\n      <td>NaN</td>\n    </tr>\n    <tr>\n      <th>13</th>\n      <td>architecture</td>\n      <td>team dependencies</td>\n      <td>NaN</td>\n    </tr>\n    <tr>\n      <th>15</th>\n      <td>development teams</td>\n      <td>alignment</td>\n      <td>NaN</td>\n    </tr>\n    <tr>\n      <th>16</th>\n      <td>development teams</td>\n      <td>autonomy</td>\n      <td>NaN</td>\n    </tr>\n    <tr>\n      <th>17</th>\n      <td>development teams</td>\n      <td>cognitive load</td>\n      <td>NaN</td>\n    </tr>\n    <tr>\n      <th>18</th>\n      <td>development teams</td>\n      <td>development process</td>\n      <td>NaN</td>\n    </tr>\n    <tr>\n      <th>19</th>\n      <td>development teams</td>\n      <td>four key metrics</td>\n      <td>NaN</td>\n    </tr>\n    <tr>\n      <th>20</th>\n      <td>quality</td>\n      <td>automated testing</td>\n      <td>NaN</td>\n    </tr>\n    <tr>\n      <th>21</th>\n      <td>quality</td>\n      <td>general automatisation</td>\n      <td>NaN</td>\n    </tr>\n    <tr>\n      <th>22</th>\n      <td>quality</td>\n      <td>reviews</td>\n      <td>NaN</td>\n    </tr>\n    <tr>\n      <th>23</th>\n      <td>quality</td>\n      <td>maintainability</td>\n      <td>NaN</td>\n    </tr>\n    <tr>\n      <th>24</th>\n      <td>quality</td>\n      <td>adoptability</td>\n      <td>NaN</td>\n    </tr>\n    <tr>\n      <th>25</th>\n      <td>quality</td>\n      <td>modifyability</td>\n      <td>NaN</td>\n    </tr>\n    <tr>\n      <th>26</th>\n      <td>quality</td>\n      <td>testability</td>\n      <td>NaN</td>\n    </tr>\n    <tr>\n      <th>27</th>\n      <td>quality</td>\n      <td>reliability</td>\n      <td>NaN</td>\n    </tr>\n    <tr>\n      <th>28</th>\n      <td>quality</td>\n      <td>recoverability</td>\n      <td>NaN</td>\n    </tr>\n    <tr>\n      <th>30</th>\n      <td>organisation context</td>\n      <td>vision</td>\n      <td>NaN</td>\n    </tr>\n    <tr>\n      <th>31</th>\n      <td>organisation context</td>\n      <td>ADR/story telling</td>\n      <td>NaN</td>\n    </tr>\n    <tr>\n      <th>33</th>\n      <td>organisation context</td>\n      <td>four key metrics</td>\n      <td>NaN</td>\n    </tr>\n    <tr>\n      <th>34</th>\n      <td>organisation context</td>\n      <td>end user accessability</td>\n      <td>NaN</td>\n    </tr>\n    <tr>\n      <th>37</th>\n      <td>functionality</td>\n      <td>product owner</td>\n      <td>Are the right business users easily found and ...</td>\n    </tr>\n  </tbody>\n</table>\n</div>"
     },
     "metadata": {}
    }
   ],
   "source": [
    "df1 = df[['aspect', 'category', 'information']]\n",
    "display(df1)"
   ]
  },
  {
   "source": [
    "Ratings and reasons for them can also be found be found below."
   ],
   "cell_type": "markdown",
   "metadata": {}
  },
  {
   "source": [
    "df2 = df[['aspect', 'category', 'rating', 'rating_reason']]\n",
    "display(df2)"
   ],
   "cell_type": "code",
   "metadata": {},
   "execution_count": 11,
   "outputs": [
    {
     "output_type": "display_data",
     "data": {
      "text/plain": "                  aspect                 category  rating rating_reason\n0               legality                     GDPR       1      a reason\n1               legality                licensing       1      a reason\n4               security               encryption       1      a reason\n5               security  owasp dependency checks      -1      a reason\n6          observability         business metrics       0      a reason\n7          observability      application metrics      -1      a reason\n8          observability           system metrics       0      a reason\n9          observability             code metrics       0      a reason\n10         observability   source control metrics      -1      a reason\n11         observability          log file access       1      a reason\n12          architecture   component dependencies       1      a reason\n13          architecture        team dependencies       0      a reason\n15     development teams                alignment       0      a reason\n16     development teams                 autonomy       0      a reason\n17     development teams           cognitive load       1      a reason\n18     development teams      development process       0      a reason\n19     development teams         four key metrics      -1      a reason\n20               quality        automated testing       0      a reason\n21               quality   general automatisation       0      a reason\n22               quality                  reviews       1      a reason\n23               quality          maintainability       0      a reason\n24               quality             adoptability      -1      a reason\n25               quality            modifyability       0      a reason\n26               quality              testability       0      a reason\n27               quality              reliability       0      a reason\n28               quality           recoverability       0      a reason\n30  organisation context                   vision      -1      a reason\n31  organisation context        ADR/story telling      -1      a reason\n33  organisation context         four key metrics      -1      a reason\n34  organisation context   end user accessability      -1      a reason\n37         functionality            product owner      -1      a reason",
      "text/html": "<div>\n<style scoped>\n    .dataframe tbody tr th:only-of-type {\n        vertical-align: middle;\n    }\n\n    .dataframe tbody tr th {\n        vertical-align: top;\n    }\n\n    .dataframe thead th {\n        text-align: right;\n    }\n</style>\n<table border=\"1\" class=\"dataframe\">\n  <thead>\n    <tr style=\"text-align: right;\">\n      <th></th>\n      <th>aspect</th>\n      <th>category</th>\n      <th>rating</th>\n      <th>rating_reason</th>\n    </tr>\n  </thead>\n  <tbody>\n    <tr>\n      <th>0</th>\n      <td>legality</td>\n      <td>GDPR</td>\n      <td>1</td>\n      <td>a reason</td>\n    </tr>\n    <tr>\n      <th>1</th>\n      <td>legality</td>\n      <td>licensing</td>\n      <td>1</td>\n      <td>a reason</td>\n    </tr>\n    <tr>\n      <th>4</th>\n      <td>security</td>\n      <td>encryption</td>\n      <td>1</td>\n      <td>a reason</td>\n    </tr>\n    <tr>\n      <th>5</th>\n      <td>security</td>\n      <td>owasp dependency checks</td>\n      <td>-1</td>\n      <td>a reason</td>\n    </tr>\n    <tr>\n      <th>6</th>\n      <td>observability</td>\n      <td>business metrics</td>\n      <td>0</td>\n      <td>a reason</td>\n    </tr>\n    <tr>\n      <th>7</th>\n      <td>observability</td>\n      <td>application metrics</td>\n      <td>-1</td>\n      <td>a reason</td>\n    </tr>\n    <tr>\n      <th>8</th>\n      <td>observability</td>\n      <td>system metrics</td>\n      <td>0</td>\n      <td>a reason</td>\n    </tr>\n    <tr>\n      <th>9</th>\n      <td>observability</td>\n      <td>code metrics</td>\n      <td>0</td>\n      <td>a reason</td>\n    </tr>\n    <tr>\n      <th>10</th>\n      <td>observability</td>\n      <td>source control metrics</td>\n      <td>-1</td>\n      <td>a reason</td>\n    </tr>\n    <tr>\n      <th>11</th>\n      <td>observability</td>\n      <td>log file access</td>\n      <td>1</td>\n      <td>a reason</td>\n    </tr>\n    <tr>\n      <th>12</th>\n      <td>architecture</td>\n      <td>component dependencies</td>\n      <td>1</td>\n      <td>a reason</td>\n    </tr>\n    <tr>\n      <th>13</th>\n      <td>architecture</td>\n      <td>team dependencies</td>\n      <td>0</td>\n      <td>a reason</td>\n    </tr>\n    <tr>\n      <th>15</th>\n      <td>development teams</td>\n      <td>alignment</td>\n      <td>0</td>\n      <td>a reason</td>\n    </tr>\n    <tr>\n      <th>16</th>\n      <td>development teams</td>\n      <td>autonomy</td>\n      <td>0</td>\n      <td>a reason</td>\n    </tr>\n    <tr>\n      <th>17</th>\n      <td>development teams</td>\n      <td>cognitive load</td>\n      <td>1</td>\n      <td>a reason</td>\n    </tr>\n    <tr>\n      <th>18</th>\n      <td>development teams</td>\n      <td>development process</td>\n      <td>0</td>\n      <td>a reason</td>\n    </tr>\n    <tr>\n      <th>19</th>\n      <td>development teams</td>\n      <td>four key metrics</td>\n      <td>-1</td>\n      <td>a reason</td>\n    </tr>\n    <tr>\n      <th>20</th>\n      <td>quality</td>\n      <td>automated testing</td>\n      <td>0</td>\n      <td>a reason</td>\n    </tr>\n    <tr>\n      <th>21</th>\n      <td>quality</td>\n      <td>general automatisation</td>\n      <td>0</td>\n      <td>a reason</td>\n    </tr>\n    <tr>\n      <th>22</th>\n      <td>quality</td>\n      <td>reviews</td>\n      <td>1</td>\n      <td>a reason</td>\n    </tr>\n    <tr>\n      <th>23</th>\n      <td>quality</td>\n      <td>maintainability</td>\n      <td>0</td>\n      <td>a reason</td>\n    </tr>\n    <tr>\n      <th>24</th>\n      <td>quality</td>\n      <td>adoptability</td>\n      <td>-1</td>\n      <td>a reason</td>\n    </tr>\n    <tr>\n      <th>25</th>\n      <td>quality</td>\n      <td>modifyability</td>\n      <td>0</td>\n      <td>a reason</td>\n    </tr>\n    <tr>\n      <th>26</th>\n      <td>quality</td>\n      <td>testability</td>\n      <td>0</td>\n      <td>a reason</td>\n    </tr>\n    <tr>\n      <th>27</th>\n      <td>quality</td>\n      <td>reliability</td>\n      <td>0</td>\n      <td>a reason</td>\n    </tr>\n    <tr>\n      <th>28</th>\n      <td>quality</td>\n      <td>recoverability</td>\n      <td>0</td>\n      <td>a reason</td>\n    </tr>\n    <tr>\n      <th>30</th>\n      <td>organisation context</td>\n      <td>vision</td>\n      <td>-1</td>\n      <td>a reason</td>\n    </tr>\n    <tr>\n      <th>31</th>\n      <td>organisation context</td>\n      <td>ADR/story telling</td>\n      <td>-1</td>\n      <td>a reason</td>\n    </tr>\n    <tr>\n      <th>33</th>\n      <td>organisation context</td>\n      <td>four key metrics</td>\n      <td>-1</td>\n      <td>a reason</td>\n    </tr>\n    <tr>\n      <th>34</th>\n      <td>organisation context</td>\n      <td>end user accessability</td>\n      <td>-1</td>\n      <td>a reason</td>\n    </tr>\n    <tr>\n      <th>37</th>\n      <td>functionality</td>\n      <td>product owner</td>\n      <td>-1</td>\n      <td>a reason</td>\n    </tr>\n  </tbody>\n</table>\n</div>"
     },
     "metadata": {}
    }
   ]
  }
 ],
 "metadata": {
  "kernelspec": {
   "display_name": "Python 3",
   "language": "python",
   "name": "python3"
  },
  "language_info": {
   "codemirror_mode": {
    "name": "ipython",
    "version": 3
   },
   "file_extension": ".py",
   "mimetype": "text/x-python",
   "name": "python",
   "nbconvert_exporter": "python",
   "pygments_lexer": "ipython3",
   "version": "3.9.2-final"
  }
 },
 "nbformat": 4,
 "nbformat_minor": 5
}